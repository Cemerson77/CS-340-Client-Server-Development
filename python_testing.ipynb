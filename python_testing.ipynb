{
 "cells": [
  {
   "cell_type": "code",
   "execution_count": 1,
   "id": "d8660729",
   "metadata": {},
   "outputs": [
    {
     "name": "stdout",
     "output_type": "stream",
     "text": [
      "My Mongo server is nv-desktop-services.apporto.com\n",
      "My Mongo port is 30123\n"
     ]
    }
   ],
   "source": [
    "# Import the AnimalShelter class from the animal_shelter module\n",
    "from animal_shelter import AnimalShelter"
   ]
  },
  {
   "cell_type": "markdown",
   "id": "a95bd88a",
   "metadata": {},
   "source": [
    "### Connect to the Database"
   ]
  },
  {
   "cell_type": "code",
   "execution_count": 2,
   "id": "3faf972f",
   "metadata": {
    "scrolled": true
   },
   "outputs": [
    {
     "name": "stdout",
     "output_type": "stream",
     "text": [
      "Connected to <nv-desktop-services.apporto.com>\n",
      "using aacuser/Emerson7\n"
     ]
    }
   ],
   "source": [
    "# Create an instance of the AnimalShelter class with the given MongoDB connection details\n",
    "# Note: Replace \"aacuser\", \"Emerson7\", \"nv-desktop-services.apporto.com\", and 30123 with\n",
    "# actual MongoDB credentials and connection information input. \n",
    "CRUD = AnimalShelter (\"aacuser\",\"Emerson7\",\n",
    "                      \"nv-desktop-services.apporto.com\",\n",
    "                      30123)\n",
    "\n",
    "# Connect to the MongoDB database using the provided credentials and print the connection details\n",
    "CRUD.connect()"
   ]
  },
  {
   "cell_type": "markdown",
   "id": "7270928f",
   "metadata": {},
   "source": [
    "### Document Creation -Create"
   ]
  },
  {
   "cell_type": "code",
   "execution_count": 3,
   "id": "edd405b6",
   "metadata": {
    "scrolled": true
   },
   "outputs": [
    {
     "name": "stdout",
     "output_type": "stream",
     "text": [
      "True\n"
     ]
    }
   ],
   "source": [
    "# Create a new document in the MongoDB collection using the `create()` method of the `AnimalShelter` class.\n",
    "# The document data includes various attributes such as age, animal type, breed, color, etc.\n",
    "# Note: Replace the example data with the actual information you want to insert into the database.\n",
    "\n",
    "#created = CRUD.create()\n",
    "#created = CRUD.create(None)\n",
    "\n",
    "created = CRUD.create({\n",
    "    \"age_upon_outcome\" : \"6 years\",\n",
    "    \"animal id\" : \"test\",\n",
    "    \"animal_type\" : \"Dog\",\n",
    "    \"breed\" : \"Golden Retriever\",\n",
    "    \"color\" : \"Golden\",\n",
    "    \"date_of_birth\" : '2020-07-18',\n",
    "    \"datetime\" : '020-07-18 01:01:00',\n",
    "    \"monthyear\" : '2020-07-18T11:24:00',\n",
    "    \"name\" : 'Diamond',\n",
    "    \"outcome_subtype\" : 'Partner',\n",
    "    \"outcome_type\" : 'Transfer',\n",
    "    \"sex_upon_outcome\" : 'Spayed Female',\n",
    "    \"location_lat\" : 30.4861149595305,\n",
    "    \"location_long\" : -97.2691161890552,\n",
    "    \"age_upon_outcome_in_weeks\" : 312.857\n",
    "})\n",
    "\n",
    "# Print the result of the create operation to check if the document was successfully added to the collection.\n",
    "print(created)"
   ]
  },
  {
   "cell_type": "markdown",
   "id": "75f88c70",
   "metadata": {},
   "source": [
    "### Query For A Document - Read"
   ]
  },
  {
   "cell_type": "code",
   "execution_count": 4,
   "id": "60395658",
   "metadata": {},
   "outputs": [
    {
     "name": "stdout",
     "output_type": "stream",
     "text": [
      "Animal(s) Found: \n",
      "\n",
      " {'_id': ObjectId('64c2e56b1b8b389b7c24ceb5'), 'age_upon_outcome': '6 years', 'animal id': 'test', 'animal_type': 'Dog', 'breed': 'Golden Retriever', 'color': 'Golden', 'date_of_birth': '2020-07-18', 'datetime': '020-07-18 01:01:00', 'monthyear': '2020-07-18T11:24:00', 'name': 'Diamond', 'outcome_subtype': 'Partner', 'outcome_type': 'Transfer', 'sex_upon_outcome': 'Spayed Female', 'location_lat': 30.4861149595305, 'location_long': -97.2691161890552, 'age_upon_outcome_in_weeks': 312.857}\n"
     ]
    }
   ],
   "source": [
    "# Retrieve documents from the MongoDB collection using the `read()` method of the `AnimalShelter` class.\n",
    "# The search criteria is based on the \"animal id\" field with the value \"test\".\n",
    "# Note: Replace the example search criteria with the actual information you want to use for the query.\n",
    "\n",
    "#readResult = CRUD.read(None)\n",
    "#readResult = CRUD.read({\"name\":\"peenjut\"})\n",
    "\n",
    "readResult = CRUD.read({\"animal id\" : \"test\"})\n",
    "\n",
    "# Iterate through the list of documents returned by the `read()` method and print each document.\n",
    "# This loop allows us to display all the matching documents found in the collection.\n",
    "# The variable \"docs\" represents each individual document in the list.\n",
    "for docs in readResult:\n",
    "    print(\"Animal(s) Found: \\n\\n\", docs)"
   ]
  },
  {
   "cell_type": "markdown",
   "id": "c5d73961",
   "metadata": {},
   "source": [
    "### Update Document"
   ]
  },
  {
   "cell_type": "code",
   "execution_count": 5,
   "id": "70472cc6",
   "metadata": {},
   "outputs": [
    {
     "name": "stdout",
     "output_type": "stream",
     "text": [
      "Finding  {'animal id': 'test'} ,updating to {'outcome_type': 'Adopted '}\n",
      "\n",
      " 1 document(s) updated...\n",
      "\n",
      "{'_id': ObjectId('64c2e56b1b8b389b7c24ceb5'), 'age_upon_outcome': '6 years', 'animal id': 'test', 'animal_type': 'Dog', 'breed': 'Golden Retriever', 'color': 'Golden', 'date_of_birth': '2020-07-18', 'datetime': '020-07-18 01:01:00', 'monthyear': '2020-07-18T11:24:00', 'name': 'Diamond', 'outcome_subtype': 'Partner', 'outcome_type': 'Adopted ', 'sex_upon_outcome': 'Spayed Female', 'location_lat': 30.4861149595305, 'location_long': -97.2691161890552, 'age_upon_outcome_in_weeks': 312.857}\n"
     ]
    }
   ],
   "source": [
    "# Update documents in the MongoDB collection using the `update()` method of the `AnimalShelter` class.\n",
    "# The initial query criteria is based on the \"animal id\" field with the value \"test\".\n",
    "# The change parameter is a dictionary that specifies the field to update and its new value.\n",
    "# In this case, the \"outcome_type\" field is being updated to \"Adopted \".\n",
    "# Note: Replace the example search criteria and update data with the actual information you want to use.\n",
    "\n",
    "#updateAnimal = CRUD.update({\"animal id\" : \"tested\"}, {\"outcome_type\" : \"Adopted\"})\n",
    "updateAnimal = CRUD.update({\"animal id\" : \"test\"}, \n",
    "                           {\"outcome_type\" : \"Adopted \"})\n",
    "\n",
    "# Print the result of the update operation to see the number of documents updated.\n",
    "# The variable \"updateAnimal\" holds the number of documents modified if the update was successful.\n",
    "print(\"\\n\",updateAnimal, \"document(s) updated...\\n\")\n",
    "\n",
    "# Retrieve and display the updated documents from the MongoDB collection.\n",
    "# The search criteria for the \"read()\" method is based on the same \"animal id\" field with the value \"test\".\n",
    "# The loop iterates through the list of documents returned by the `read()` method and prints each document.\n",
    "query = CRUD.read({\"animal id\" : \"test\"})\n",
    "\n",
    "for docs in query:\n",
    "    print(docs)"
   ]
  },
  {
   "cell_type": "markdown",
   "id": "9634e99e",
   "metadata": {},
   "source": [
    "### Delete Document "
   ]
  },
  {
   "cell_type": "code",
   "execution_count": 6,
   "id": "72a73479",
   "metadata": {},
   "outputs": [
    {
     "name": "stdout",
     "output_type": "stream",
     "text": [
      "1 document(s) deleted...\n",
      "Document found :  []\n"
     ]
    }
   ],
   "source": [
    "# Delete documents from the MongoDB collection using the `delete()` method of the `AnimalShelter` class.\n",
    "# The remove criteria is based on the \"animal id\" field with the value \"test\".\n",
    "# Note: Replace the example remove criteria with the actual information you want to use for deletion.\n",
    "\n",
    "#deleteAnimal = CRUD.delete({\"name\": \"Tested\"})\n",
    "deleteAnimal = CRUD.delete({\"animal id\" : \"test\"})\n",
    "\n",
    "# Print the result of the delete operation to see the number of documents deleted.\n",
    "# The variable \"deleteAnimal\" holds the number of documents deleted if the operation was successful.\n",
    "print(deleteAnimal, \"document(s) deleted...\")\n",
    "\n",
    "# Valid test to verify that the documents were properly deleted from the collection.\n",
    "# Retrieve documents using the `read()` method with the same remove criteria.\n",
    "# The purpose of this test is to check if the documents with \"animal id\" as \"test\" are no longer present.\n",
    "readResult = CRUD.read({\"animal id\" : \"test\"})\n",
    "\n",
    "# Print the result of the test to check if the documents were properly deleted.\n",
    "# If any matching documents are found, they will be displayed.\n",
    "print(\"Document found : \", readResult)"
   ]
  }
 ],
 "metadata": {
  "kernelspec": {
   "display_name": "Python 3 (ipykernel)",
   "language": "python",
   "name": "python3"
  },
  "language_info": {
   "codemirror_mode": {
    "name": "ipython",
    "version": 3
   },
   "file_extension": ".py",
   "mimetype": "text/x-python",
   "name": "python",
   "nbconvert_exporter": "python",
   "pygments_lexer": "ipython3",
   "version": "3.9.12"
  }
 },
 "nbformat": 4,
 "nbformat_minor": 5
}
